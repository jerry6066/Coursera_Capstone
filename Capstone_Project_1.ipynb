{
  "nbformat": 4,
  "nbformat_minor": 0,
  "metadata": {
    "colab": {
      "name": "Capstone Project_1.ipynb",
      "version": "0.3.2",
      "provenance": []
    },
    "kernelspec": {
      "name": "python3",
      "display_name": "Python 3"
    }
  },
  "cells": [
    {
      "cell_type": "markdown",
      "metadata": {
        "id": "reNWO2aahSr8",
        "colab_type": "text"
      },
      "source": [
        "# Capstone Project\n",
        "This notebook is for Capstone Project"
      ]
    },
    {
      "cell_type": "markdown",
      "metadata": {
        "id": "O5CVB8bWhebi",
        "colab_type": "text"
      },
      "source": [
        "Import necessary libraries."
      ]
    },
    {
      "cell_type": "code",
      "metadata": {
        "id": "i_Vgka-lPxfk",
        "colab_type": "code",
        "colab": {}
      },
      "source": [
        "import pandas as pd\n",
        "import numpy as np"
      ],
      "execution_count": 0,
      "outputs": []
    },
    {
      "cell_type": "markdown",
      "metadata": {
        "id": "vFjPOheHhngB",
        "colab_type": "text"
      },
      "source": [
        "Read the file from the given url."
      ]
    },
    {
      "cell_type": "code",
      "metadata": {
        "id": "yVSUofZYQ8V8",
        "colab_type": "code",
        "colab": {}
      },
      "source": [
        "file_path=r\"https://en.wikipedia.org/wiki/List_of_postal_codes_of_Canada:_M\"\n",
        "df=pd.read_html(file_path)[0]"
      ],
      "execution_count": 0,
      "outputs": []
    },
    {
      "cell_type": "code",
      "metadata": {
        "id": "XEBdjCmPRB8-",
        "colab_type": "code",
        "colab": {}
      },
      "source": [
        "df.head()"
      ],
      "execution_count": 0,
      "outputs": []
    },
    {
      "cell_type": "markdown",
      "metadata": {
        "id": "oHfx-CGrhuEt",
        "colab_type": "text"
      },
      "source": [
        "Replace the \"Not assigned\" element in the column \"Borough\" to Nan."
      ]
    },
    {
      "cell_type": "code",
      "metadata": {
        "id": "Y9PmnZ7qRCx8",
        "colab_type": "code",
        "colab": {}
      },
      "source": [
        "df[\"Borough\"].replace(\"Not assigned\",np.nan,inplace=True)\n",
        "df.head()"
      ],
      "execution_count": 0,
      "outputs": []
    },
    {
      "cell_type": "markdown",
      "metadata": {
        "id": "6ni3658gh7sI",
        "colab_type": "text"
      },
      "source": [
        "Ignore cells with a borough that is Nan."
      ]
    },
    {
      "cell_type": "code",
      "metadata": {
        "id": "9h0iHUYUZBvH",
        "colab_type": "code",
        "colab": {}
      },
      "source": [
        "df.dropna(subset=[\"Borough\"],axis=0,inplace=True)\n",
        "df.head()"
      ],
      "execution_count": 0,
      "outputs": []
    },
    {
      "cell_type": "code",
      "metadata": {
        "id": "2RZ9di2HZHjq",
        "colab_type": "code",
        "colab": {}
      },
      "source": [
        "df"
      ],
      "execution_count": 0,
      "outputs": []
    },
    {
      "cell_type": "markdown",
      "metadata": {
        "id": "1igcMa4wiEWW",
        "colab_type": "text"
      },
      "source": [
        "If a cell has a borough but a Not assigned neighborhood, then the neighborhood will be the same as the borough."
      ]
    },
    {
      "cell_type": "code",
      "metadata": {
        "id": "iEy3YJtrZrSY",
        "colab_type": "code",
        "colab": {}
      },
      "source": [
        "df[\"Neighbourhood\"].replace(\"Not assigned\",df[\"Borough\"],inplace=True)\n",
        "df.head()"
      ],
      "execution_count": 0,
      "outputs": []
    },
    {
      "cell_type": "code",
      "metadata": {
        "id": "1yws0RmQaccJ",
        "colab_type": "code",
        "colab": {}
      },
      "source": [
        "df"
      ],
      "execution_count": 0,
      "outputs": []
    },
    {
      "cell_type": "code",
      "metadata": {
        "id": "emjAgWdGbbjk",
        "colab_type": "code",
        "colab": {}
      },
      "source": [
        "def rows_content_joined(df, spr, *cols):\n",
        "    tmp = pd.DataFrame()\n",
        "    for i in cols:\n",
        "        content = spr.join(set(df[i].tolist()))\n",
        "        tmp[i] = pd.Series(content)\n",
        "    return tmp\n",
        "\n",
        "results = pd.DataFrame()\n",
        "for name, group in df.groupby(\"Postcode\"):\n",
        "    results = results.append(rows_content_joined(group, \", \", \"Postcode\",\"Borough\",\"Neighbourhood\"))"
      ],
      "execution_count": 0,
      "outputs": []
    },
    {
      "cell_type": "code",
      "metadata": {
        "id": "5NWR9c30bc5j",
        "colab_type": "code",
        "colab": {}
      },
      "source": [
        "results"
      ],
      "execution_count": 0,
      "outputs": []
    },
    {
      "cell_type": "markdown",
      "metadata": {
        "id": "xSCD0EnniNLX",
        "colab_type": "text"
      },
      "source": [
        "Show the shape of the results."
      ]
    },
    {
      "cell_type": "code",
      "metadata": {
        "id": "Xz4R09EkfYi9",
        "colab_type": "code",
        "colab": {
          "base_uri": "https://localhost:8080/",
          "height": 34
        },
        "outputId": "3b87efb8-02ba-428c-a2d9-e054ef8dada5"
      },
      "source": [
        "print(results.shape)"
      ],
      "execution_count": 46,
      "outputs": [
        {
          "output_type": "stream",
          "text": [
            "(103, 3)\n"
          ],
          "name": "stdout"
        }
      ]
    },
    {
      "cell_type": "code",
      "metadata": {
        "id": "0jZdl_6vgtFe",
        "colab_type": "code",
        "colab": {}
      },
      "source": [
        ""
      ],
      "execution_count": 0,
      "outputs": []
    }
  ]
}